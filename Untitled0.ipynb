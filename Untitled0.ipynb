{
  "nbformat": 4,
  "nbformat_minor": 0,
  "metadata": {
    "colab": {
      "provenance": []
    },
    "kernelspec": {
      "name": "python3",
      "display_name": "Python 3"
    },
    "language_info": {
      "name": "python"
    }
  },
  "cells": [
    {
      "cell_type": "markdown",
      "source": [
        "**1. What are the five key concepts of Object-Oriented Programming (OOP)?**"
      ],
      "metadata": {
        "id": "XrsvP3xqN784"
      }
    },
    {
      "cell_type": "markdown",
      "source": [
        "ANS:\n",
        "\n",
        "The five key concepts of Object-Oriented Programming (OOP) are:\n",
        "\n",
        "1. Encapsulation: This concept involves bundling data and methods that operate on that data within a single unit, called a class or object. Encapsulation helps to hide the implementation details of an object from the outside world, making it easier to modify or extend the object without affecting other parts of the program.\n",
        "\n",
        "2. Abstraction: Abstraction is the concept of representing complex systems in a simplified way, focusing on essential features and behaviors while ignoring non-essential details. In OOP, abstraction is achieved through the use of abstract classes and interfaces, which define the interface of an object without revealing its implementation details.\n",
        "\n",
        "3. Inheritance: Inheritance is the concept of creating a new class based on an existing class. The new class inherits the properties and behavior of the existing class and can also add new properties and behavior or override the ones inherited from the parent class. Inheritance helps to promote code reuse and facilitates the creation of a hierarchy of related classes.\n",
        "\n",
        "\n",
        "4. Polymorphism: Polymorphism is the concept of an object taking on multiple forms, depending on the context in which it is used. In OOP, polymorphism is achieved through method overriding or method overloading, which allows objects of different classes to be treated as objects of a common superclass.\n",
        "\n",
        "5. Composition: Composition is the concept of creating objects from other objects or collections of objects. In OOP, composition is used to model complex systems as a collection of simpler objects, each with its own properties and behavior. Composition helps to promote code reuse and facilitates the creation of flexible and modular systems.\n",
        "\n",
        "These five key concepts of OOP work together to provide a powerful framework for designing and building complex software systems."
      ],
      "metadata": {
        "id": "OvcS3P9pOKtY"
      }
    },
    {
      "cell_type": "markdown",
      "source": [
        "**2. Write a Python class for a `Car` with attributes for `make`, `model`, and `year`. Include a method to display\n",
        "the car's information**"
      ],
      "metadata": {
        "id": "iPvDuLaaOub9"
      }
    },
    {
      "cell_type": "code",
      "execution_count": 1,
      "metadata": {
        "colab": {
          "base_uri": "https://localhost:8080/"
        },
        "id": "egowAuCANMQB",
        "outputId": "9378e1bc-f378-4838-ec74-8f69f5495459"
      },
      "outputs": [
        {
          "output_type": "stream",
          "name": "stdout",
          "text": [
            "Make: Toyota\n",
            "Model: Camry\n",
            "Year: 2020\n"
          ]
        }
      ],
      "source": [
        "class Car:\n",
        "    \"\"\"\n",
        "    A class to represent a car.\n",
        "\n",
        "    Attributes:\n",
        "        make (str): The car's make.\n",
        "        model (str): The car's model.\n",
        "        year (int): The car's year.\n",
        "\n",
        "    Methods:\n",
        "        display_info: Displays the car's information.\n",
        "    \"\"\"\n",
        "\n",
        "    def __init__(self, make, model, year):\n",
        "        \"\"\"\n",
        "        Initializes a Car object.\n",
        "\n",
        "        Args:\n",
        "            make (str): The car's make.\n",
        "            model (str): The car's model.\n",
        "            year (int): The car's year.\n",
        "        \"\"\"\n",
        "        self.make = make\n",
        "        self.model = model\n",
        "        self.year = year\n",
        "\n",
        "    def display_info(self):\n",
        "        \"\"\"\n",
        "        Displays the car's information.\n",
        "        \"\"\"\n",
        "        print(f\"Make: {self.make}\")\n",
        "        print(f\"Model: {self.model}\")\n",
        "        print(f\"Year: {self.year}\")\n",
        "\n",
        "# Example usage:\n",
        "car = Car(\"Toyota\", \"Camry\", 2020)\n",
        "car.display_info()"
      ]
    },
    {
      "cell_type": "markdown",
      "source": [
        "**3. Explain the difference between instance methods and class methods. Provide an example of each**"
      ],
      "metadata": {
        "id": "H_Zh5vrXPd7X"
      }
    },
    {
      "cell_type": "markdown",
      "source": [
        "ANS:\n",
        "\n",
        "In Python, instance methods and class methods are two types of methods that can be defined in a class.\n",
        "\n",
        "Instance Methods\n",
        "\n",
        "Instance methods are methods that belong to an instance of a class, and are used to perform actions on that instance. They have access to the instance's attributes and can modify them. Instance methods are defined inside a class and take self as their first parameter, which refers to the instance of the class.\n"
      ],
      "metadata": {
        "id": "4YhiTICnP6Hf"
      }
    },
    {
      "cell_type": "code",
      "source": [
        "#Example:\n",
        "\n",
        "class Person:\n",
        "    def __init__(self, name, age):\n",
        "        self.name = name\n",
        "        self.age = age\n",
        "\n",
        "    def greet(self):\n",
        "        print(f\"Hello, my name is {self.name} and I am {self.age} years old.\")\n",
        "\n",
        "person = Person(\"John\", 30)\n",
        "person.greet()  # Output: Hello, my name is John and I am 30 years old.\n"
      ],
      "metadata": {
        "colab": {
          "base_uri": "https://localhost:8080/"
        },
        "id": "s33dVxaKPWqC",
        "outputId": "deed55cf-b22e-4ff8-81b5-6c9935d619f3"
      },
      "execution_count": 2,
      "outputs": [
        {
          "output_type": "stream",
          "name": "stdout",
          "text": [
            "Hello, my name is John and I am 30 years old.\n"
          ]
        }
      ]
    },
    {
      "cell_type": "markdown",
      "source": [
        "Class Methods\n",
        "\n",
        "Class methods are methods that belong to a class itself, rather than to an instance of the class. They are used to perform actions that are related to the class as a whole, rather than to a specific instance. Class methods are defined inside a class and take cls as their first parameter, which refers to the class itself.\n"
      ],
      "metadata": {
        "id": "nzHmxGUMQLDV"
      }
    },
    {
      "cell_type": "code",
      "source": [
        "#Example:\n",
        "\n",
        "class Person:\n",
        "    population = 0\n",
        "\n",
        "    def __init__(self, name, age):\n",
        "        self.name = name\n",
        "        self.age = age\n",
        "        Person.population += 1\n",
        "\n",
        "    @classmethod\n",
        "    def get_population(cls):\n",
        "        return cls.population\n",
        "\n",
        "person1 = Person(\"John\", 30)\n",
        "person2 = Person(\"Jane\", 25)\n",
        "\n",
        "print(Person.get_population())  # Output: 2\n"
      ],
      "metadata": {
        "colab": {
          "base_uri": "https://localhost:8080/"
        },
        "id": "O8McpKznQFsP",
        "outputId": "a3b6c5aa-7924-4062-a242-51a677333d16"
      },
      "execution_count": 3,
      "outputs": [
        {
          "output_type": "stream",
          "name": "stdout",
          "text": [
            "2\n"
          ]
        }
      ]
    },
    {
      "cell_type": "markdown",
      "source": [
        "**4. How does Python implement method overloading? Give an example.**"
      ],
      "metadata": {
        "id": "KY3OpCGnQlF8"
      }
    },
    {
      "cell_type": "markdown",
      "source": [
        "ANS:\n",
        "\n",
        "In Object-Oriented Programming (OOPS), method overloading is a feature that allows multiple methods with the same name to be defined, but with different parameter lists. Here's an example of method overloading in Python using OOPS concepts:\n"
      ],
      "metadata": {
        "id": "vC4u177aRzlf"
      }
    },
    {
      "cell_type": "code",
      "source": [
        "class Calculator:\n",
        "    def calculate(self, *args):\n",
        "        if len(args) == 1:\n",
        "            return self.square(args[0])\n",
        "        elif len(args) == 2:\n",
        "            return self.add(args[0], args[1])\n",
        "        else:\n",
        "            raise ValueError(\"Invalid number of arguments\")\n",
        "\n",
        "    def square(self, num):\n",
        "        return num ** 2\n",
        "\n",
        "    def add(self, num1, num2):\n",
        "        return num1 + num2\n",
        "\n",
        "calculator = Calculator()\n",
        "print(calculator.calculate(5))  # Output: 25\n",
        "print(calculator.calculate(5, 10))  # Output: 15\n",
        "\n"
      ],
      "metadata": {
        "colab": {
          "base_uri": "https://localhost:8080/"
        },
        "id": "-ZX3nzaVQTCM",
        "outputId": "eeeb404a-6b4e-427f-d3ca-3440a626d613"
      },
      "execution_count": 4,
      "outputs": [
        {
          "output_type": "stream",
          "name": "stdout",
          "text": [
            "25\n",
            "15\n"
          ]
        }
      ]
    },
    {
      "cell_type": "markdown",
      "source": [
        "**5. What are the three types of access modifiers in Python? How are they denoted?**"
      ],
      "metadata": {
        "id": "Af7knKjiSIGL"
      }
    },
    {
      "cell_type": "markdown",
      "source": [
        "ANS:Here are the three types of access modifiers in Python:\n",
        "\n",
        "1. Public: No prefix is used for public members. These members can be accessed from anywhere in the code.\n"
      ],
      "metadata": {
        "id": "7l1ySiYaSPyT"
      }
    },
    {
      "cell_type": "code",
      "source": [
        "class MyClass:\n",
        "    def __init__(self):\n",
        "        self.public_var = 10\n",
        "\n",
        "    def public_method(self):\n",
        "        return self.public_var\n"
      ],
      "metadata": {
        "id": "gf9mkgF3R6v1"
      },
      "execution_count": 5,
      "outputs": []
    },
    {
      "cell_type": "markdown",
      "source": [
        "1. Protected (or \"weak internal use\"): A single underscore (_) prefix is used for protected members. These members are intended to be used internally within the class or its subclasses, but can still be accessed from outside the class.\n",
        "\n",
        "Example:\n",
        "\n",
        "class MyClass:\n",
        "    def __init__(self):\n",
        "        self._protected_var = 10\n",
        "\n",
        "    def _protected_method(self):\n",
        "        return self._protected_var\n"
      ],
      "metadata": {
        "id": "VgUIjSC0Sh3x"
      }
    },
    {
      "cell_type": "markdown",
      "source": [
        "1. Private (or \"strong internal use\"): A double underscore (__) prefix is used for private members. These members are intended to be used internally within the class only and are not accessible from outside the class. Python uses name mangling to make these members more difficult to access from outside the class.\n",
        "\n",
        "Example:\n",
        "\n",
        "class MyClass:\n",
        "    def __init__(self):\n",
        "        self.__private_var = 10\n",
        "\n",
        "    def __private_method(self):\n",
        "        return self.__private_var\n"
      ],
      "metadata": {
        "id": "KgRXF6MpSqOR"
      }
    },
    {
      "cell_type": "markdown",
      "source": [
        "**6. Describe the five types of inheritance in Python. Provide a simple example of multiple inheritance.**"
      ],
      "metadata": {
        "id": "EhKBZtIPSrqJ"
      }
    },
    {
      "cell_type": "code",
      "source": [
        "#Python supports the following five types of inheritance:\n",
        "\n",
        "#1. Single Inheritance: A child class inherits from a single parent class.\n",
        "\n",
        "#Example:\n",
        "\n",
        "class Animal:\n",
        "    def __init__(self, name):\n",
        "        self.name = name\n",
        "\n",
        "class Dog(Animal):\n",
        "    def __init__(self, name, breed):\n",
        "        super().__init__(name)\n",
        "        self.breed = breed\n",
        "\n",
        "my_dog = Dog(\"Fido\", \"Golden Retriever\")\n",
        "print(my_dog.name)  # prints Fido\n",
        "print(my_dog.breed)  # prints Golden Retriever\n"
      ],
      "metadata": {
        "colab": {
          "base_uri": "https://localhost:8080/"
        },
        "id": "TmVe7GyNSahC",
        "outputId": "fb5805da-ad8e-427b-984b-dd9279f6884f"
      },
      "execution_count": 7,
      "outputs": [
        {
          "output_type": "stream",
          "name": "stdout",
          "text": [
            "Fido\n",
            "Golden Retriever\n"
          ]
        }
      ]
    },
    {
      "cell_type": "code",
      "source": [
        "#1. Multiple Inheritance: A child class inherits from multiple parent classes.\n",
        "\n",
        "#Example:\n",
        "\n",
        "class Animal:\n",
        "    def __init__(self, name):\n",
        "        self.name = name\n",
        "\n",
        "class Mammal:\n",
        "    def __init__(self, fur_color):\n",
        "        self.fur_color = fur_color\n",
        "\n",
        "class Dog(Animal, Mammal):\n",
        "    def __init__(self, name, fur_color, breed):\n",
        "        Animal.__init__(self, name)\n",
        "        Mammal.__init__(self, fur_color)\n",
        "        self.breed = breed\n",
        "\n",
        "my_dog = Dog(\"Fido\", \"Golden\", \"Golden Retriever\")\n",
        "print(my_dog.name)  # prints Fido\n",
        "print(my_dog.fur_color)  # prints Golden\n",
        "print(my_dog.breed)  # prints Golden Retriever\n"
      ],
      "metadata": {
        "colab": {
          "base_uri": "https://localhost:8080/"
        },
        "id": "IkW_t8AOTG7P",
        "outputId": "4984b30e-d869-4b42-bcca-d2a43ddb7978"
      },
      "execution_count": 8,
      "outputs": [
        {
          "output_type": "stream",
          "name": "stdout",
          "text": [
            "Fido\n",
            "Golden\n",
            "Golden Retriever\n"
          ]
        }
      ]
    },
    {
      "cell_type": "code",
      "source": [
        "#1. Multilevel Inheritance: A child class inherits from a parent class, which in turn inherits from another parent class.\n",
        "\n",
        "#Example:\n",
        "\n",
        "class Animal:\n",
        "    def __init__(self, name):\n",
        "        self.name = name\n",
        "\n",
        "class Mammal(Animal):\n",
        "    def __init__(self, name, fur_color):\n",
        "        super().__init__(name)\n",
        "        self.fur_color = fur_color\n",
        "\n",
        "class Dog(Mammal):\n",
        "    def __init__(self, name, fur_color, breed):\n",
        "        super().__init__(name, fur_color)\n",
        "        self.breed = breed\n",
        "\n",
        "my_dog = Dog(\"Fido\", \"Golden\", \"Golden Retriever\")\n",
        "print(my_dog.name)  # prints Fido\n",
        "print(my_dog.fur_color)  # prints Golden\n",
        "print(my_dog.breed)  # prints Golden Retriever\n"
      ],
      "metadata": {
        "colab": {
          "base_uri": "https://localhost:8080/"
        },
        "id": "pquEiGLUTS4F",
        "outputId": "d04cd7a1-d00e-4450-afee-de90422d3834"
      },
      "execution_count": 9,
      "outputs": [
        {
          "output_type": "stream",
          "name": "stdout",
          "text": [
            "Fido\n",
            "Golden\n",
            "Golden Retriever\n"
          ]
        }
      ]
    },
    {
      "cell_type": "code",
      "source": [
        "#1. Hierarchical Inheritance: Multiple child classes inherit from a single parent class.\n",
        "\n",
        "#Example:\n",
        "\n",
        "class Animal:\n",
        "    def __init__(self, name):\n",
        "        self.name = name\n",
        "\n",
        "class Dog(Animal):\n",
        "    def __init__(self, name, breed):\n",
        "        super().__init__(name)\n",
        "        self.breed = breed\n",
        "\n",
        "class Cat(Animal):\n",
        "    def __init__(self, name, color):\n",
        "        super().__init__(name)\n",
        "        self.color = color\n",
        "\n",
        "my_dog = Dog(\"Fido\", \"Golden Retriever\")\n",
        "my_cat = Cat(\"Whiskers\", \"Black\")\n",
        "print(my_dog.name)  # prints Fido\n",
        "print(my_dog.breed)  # prints Golden Retriever\n",
        "print(my_cat.name)  # prints Whiskers\n",
        "print(my_cat.color)  # prints Black\n"
      ],
      "metadata": {
        "colab": {
          "base_uri": "https://localhost:8080/"
        },
        "id": "cfRK1ULdTZ6F",
        "outputId": "bd7b46b5-2cde-4018-87a7-57f16c6a7202"
      },
      "execution_count": 10,
      "outputs": [
        {
          "output_type": "stream",
          "name": "stdout",
          "text": [
            "Fido\n",
            "Golden Retriever\n",
            "Whiskers\n",
            "Black\n"
          ]
        }
      ]
    },
    {
      "cell_type": "code",
      "source": [
        "#1. Hybrid Inheritance: A combination of multiple inheritance types.\n",
        "\n",
        "#Example:\n",
        "\n",
        "class Animal:\n",
        "    def __init__(self, name):\n",
        "        self.name = name\n",
        "\n",
        "class Mammal(Animal):\n",
        "    def __init__(self, name, fur_color):\n",
        "        super().__init__(name)\n",
        "        self.fur_color = fur_color\n",
        "\n",
        "class Carnivore:\n",
        "    def __init__(self, diet):\n",
        "        self.diet = diet\n",
        "\n",
        "class Dog(Mammal, Carnivore):\n",
        "    def __init__(self, name, fur_color, diet, breed):\n",
        "        Mammal.__init__(self, name, fur_color)\n",
        "        Carnivore.__init__(self, diet)\n",
        "        self.breed = breed\n",
        "\n",
        "my_dog = Dog(\"Fido\", \"Golden\", \"Meat\", \"Golden Retriever\")\n",
        "print(my_dog.name)  # prints Fido\n",
        "print(my_dog.fur_color)  # prints Golden\n",
        "print(my_dog.diet)  # prints Meat\n",
        "print(my_dog.breed)  # prints Golden Retriever"
      ],
      "metadata": {
        "colab": {
          "base_uri": "https://localhost:8080/"
        },
        "id": "L6brcA5wThVM",
        "outputId": "d581ac3b-8019-4744-e987-ee2c329de3b5"
      },
      "execution_count": 11,
      "outputs": [
        {
          "output_type": "stream",
          "name": "stdout",
          "text": [
            "Fido\n",
            "Golden\n",
            "Meat\n",
            "Golden Retriever\n"
          ]
        }
      ]
    },
    {
      "cell_type": "markdown",
      "source": [
        "**7. What is the Method Resolution Order (MRO) in Python? How can you retrieve it programmatically?**"
      ],
      "metadata": {
        "id": "FvrTtWS7TtXM"
      }
    },
    {
      "cell_type": "markdown",
      "source": [
        "ANS:\n",
        "\n",
        "The Method Resolution Order (MRO) in Python is the order in which Python searches for a method or attribute in a class and its parent classes. When a method or attribute is accessed on an object, Python searches for it in the following order:\n",
        "\n",
        "1. The object's own class\n",
        "2. The object's parent classes (in the order they are listed in the class definition)\n",
        "3. The parent classes' parent classes (recursively)\n",
        "\n",
        "The MRO is used to resolve conflicts when multiple parent classes define the same method or attribute.\n",
        "\n",
        "You can retrieve the MRO programmatically using the mro() method on a class:\n",
        "\n",
        "class A:\n",
        "    pass\n",
        "\n",
        "class B(A):\n",
        "    pass\n",
        "\n",
        "class C(A):\n",
        "    pass\n",
        "\n",
        "class D(B, C):\n",
        "    pass\n",
        "\n",
        "print(D.mro())  # Output: [<class '__main__.D'>, <class '__main__.B'>, <class '__main__.C'>, <class '__main__.A'>, <class 'object'>]\n",
        "\n",
        "The mro() method returns a list of classes in the order they are searched for methods and attributes.\n",
        "\n",
        "Alternatively, you can use the __mro__ attribute on a class to retrieve its MRO:\n",
        "\n",
        "print(D.__mro__)  # Output: (<class '__main__.D'>, <class '__main__.B'>, <class '__main__.C'>, <class '__main__.A'>, <class 'object'>)\n",
        "\n",
        "Note that the __mro__ attribute is a tuple, whereas the mro() method returns a list.\n",
        "\n",
        "It's worth noting that the MRO is used not only for method resolution but also for attribute resolution. When you access an attribute on an object, Python searches for it in the same order as it searches for methods.\n"
      ],
      "metadata": {
        "id": "mjXa-uZYUDCK"
      }
    },
    {
      "cell_type": "code",
      "source": [
        "#Here's an example that demonstrates how the MRO is used for attribute resolution:\n",
        "\n",
        "class A:\n",
        "    x = 1\n",
        "\n",
        "class B(A):\n",
        "    pass\n",
        "\n",
        "class C(A):\n",
        "    x = 2\n",
        "\n",
        "class D(B, C):\n",
        "    pass\n",
        "\n",
        "print(D.x)  # Output: 1"
      ],
      "metadata": {
        "colab": {
          "base_uri": "https://localhost:8080/"
        },
        "id": "nsCTsWoATqK0",
        "outputId": "226c01e0-60c3-44aa-e667-7159da1b3256"
      },
      "execution_count": 12,
      "outputs": [
        {
          "output_type": "stream",
          "name": "stdout",
          "text": [
            "2\n"
          ]
        }
      ]
    },
    {
      "cell_type": "markdown",
      "source": [
        "**8. Create an abstract base class `Shape` with an abstract method `area()`. Then create two subclasses\n",
        "`Circle` and `Rectangle` that implement the `area()` method.**"
      ],
      "metadata": {
        "id": "fYv_XdCYURyB"
      }
    },
    {
      "cell_type": "code",
      "source": [
        "#Here's an example implementation in Python:\n",
        "\n",
        "\n",
        "from abc import ABC, abstractmethod\n",
        "import math\n",
        "\n",
        "# Abstract base class\n",
        "class Shape(ABC):\n",
        "    @abstractmethod\n",
        "    def area(self):\n",
        "        pass\n",
        "\n",
        "# Subclass: Circle\n",
        "class Circle(Shape):\n",
        "    def __init__(self, radius):\n",
        "        self.radius = radius\n",
        "\n",
        "    def area(self):\n",
        "        return math.pi * (self.radius ** 2)\n",
        "\n",
        "# Subclass: Rectangle\n",
        "class Rectangle(Shape):\n",
        "    def __init__(self, width, height):\n",
        "        self.width = width\n",
        "        self.height = height\n",
        "\n",
        "    def area(self):\n",
        "        return self.width * self.height\n",
        "\n",
        "# Example usage\n",
        "circle = Circle(5)\n",
        "print(f\"Circle area: {circle.area():.2f}\")\n",
        "\n",
        "rectangle = Rectangle(4, 6)\n",
        "print(f\"Rectangle area: {rectangle.area()}\")\n"
      ],
      "metadata": {
        "colab": {
          "base_uri": "https://localhost:8080/"
        },
        "id": "bMR-1lhKUKq7",
        "outputId": "3aa83d55-ed43-4465-f1b4-66dee41ddb62"
      },
      "execution_count": 13,
      "outputs": [
        {
          "output_type": "stream",
          "name": "stdout",
          "text": [
            "Circle area: 78.54\n",
            "Rectangle area: 24\n"
          ]
        }
      ]
    },
    {
      "cell_type": "markdown",
      "source": [
        "**9. Demonstrate polymorphism by creating a function that can work with different shape objects to calculate\n",
        "and print their areas.**"
      ],
      "metadata": {
        "id": "kWMe1di0UvJG"
      }
    },
    {
      "cell_type": "code",
      "source": [
        "#Here's an example implementation in Python that demonstrates polymorphism:\n",
        "\n",
        "\n",
        "from abc import ABC, abstractmethod\n",
        "import math\n",
        "\n",
        "# Abstract base class\n",
        "class Shape(ABC):\n",
        "    @abstractmethod\n",
        "    def area(self):\n",
        "        pass\n",
        "\n",
        "# Subclass: Circle\n",
        "class Circle(Shape):\n",
        "    def __init__(self, radius):\n",
        "        self.radius = radius\n",
        "\n",
        "    def area(self):\n",
        "        return math.pi * (self.radius ** 2)\n",
        "\n",
        "# Subclass: Rectangle\n",
        "class Rectangle(Shape):\n",
        "    def __init__(self, width, height):\n",
        "        self.width = width\n",
        "        self.height = height\n",
        "\n",
        "    def area(self):\n",
        "        return self.width * self.height\n",
        "\n",
        "# Subclass: Triangle\n",
        "class Triangle(Shape):\n",
        "    def __init__(self, base, height):\n",
        "        self.base = base\n",
        "        self.height = height\n",
        "\n",
        "    def area(self):\n",
        "        return 0.5 * self.base * self.height\n",
        "\n",
        "# Polymorphic function\n",
        "def calculate_and_print_area(shape: Shape):\n",
        "    area = shape.area()\n",
        "    print(f\"Area of {type(shape).__name__}: {area:.2f}\")\n",
        "\n",
        "# Example usage\n",
        "circle = Circle(5)\n",
        "rectangle = Rectangle(4, 6)\n",
        "triangle = Triangle(3, 7)\n",
        "\n",
        "shapes = [circle, rectangle, triangle]\n",
        "\n",
        "for shape in shapes:\n",
        "    calculate_and_print_area(shape)\n",
        "\n"
      ],
      "metadata": {
        "colab": {
          "base_uri": "https://localhost:8080/"
        },
        "id": "KIhDWVUuUjMP",
        "outputId": "d38137f0-1a41-4039-cb54-cff38451aa7e"
      },
      "execution_count": 14,
      "outputs": [
        {
          "output_type": "stream",
          "name": "stdout",
          "text": [
            "Area of Circle: 78.54\n",
            "Area of Rectangle: 24.00\n",
            "Area of Triangle: 10.50\n"
          ]
        }
      ]
    },
    {
      "cell_type": "markdown",
      "source": [
        "**10. Implement encapsulation in a `BankAccount` class with private attributes for `balance` and\n",
        "`account_number`. Include methods for deposit, withdrawal, and balance inquiry**"
      ],
      "metadata": {
        "id": "DWmPPsHZVA3n"
      }
    },
    {
      "cell_type": "code",
      "source": [
        "#Here's an example implementation in Python that demonstrates encapsulation:\n",
        "\n",
        "\n",
        "class BankAccount:\n",
        "    def __init__(self, account_number, initial_balance):\n",
        "        self.__account_number = account_number\n",
        "        self.__balance = initial_balance\n",
        "\n",
        "    def deposit(self, amount):\n",
        "        if amount > 0:\n",
        "            self.__balance += amount\n",
        "            print(f\"Deposited ${amount:.2f} into account {self.__account_number}. New balance: ${self.__balance:.2f}\")\n",
        "        else:\n",
        "            print(\"Invalid deposit amount. Please enter a positive value.\")\n",
        "\n",
        "    def withdraw(self, amount):\n",
        "        if 0 < amount <= self.__balance:\n",
        "            self.__balance -= amount\n",
        "            print(f\"Withdrew ${amount:.2f} from account {self.__account_number}. New balance: ${self.__balance:.2f}\")\n",
        "        elif amount <= 0:\n",
        "            print(\"Invalid withdrawal amount. Please enter a positive value.\")\n",
        "        else:\n",
        "            print(\"Insufficient funds for withdrawal.\")\n",
        "\n",
        "    def get_balance(self):\n",
        "        return self.__balance\n",
        "\n",
        "    def get_account_number(self):\n",
        "        return self.__account_number\n",
        "\n",
        "\n",
        "# Example usage\n",
        "account = BankAccount(\"123456789\", 1000.0)\n",
        "print(f\"Initial balance: ${account.get_balance():.2f}\")\n",
        "\n",
        "account.deposit(500.0)\n",
        "account.withdraw(200.0)\n",
        "print(f\"Current balance: ${account.get_balance():.2f}\")\n",
        "\n",
        "# Attempting to access private attributes directly will raise an AttributeError\n",
        "try:\n",
        "    print(account.__balance)\n",
        "except AttributeError:\n",
        "    print(\"Error: Cannot access private attribute '__balance' directly.\")\n",
        "\n",
        "try:\n",
        "    print(account.__account_number)\n",
        "except AttributeError:\n",
        "    print(\"Error: Cannot access private attribute '__account_number' directly.\")\n",
        "\n",
        "\n"
      ],
      "metadata": {
        "colab": {
          "base_uri": "https://localhost:8080/"
        },
        "id": "NEN4LoBlU5nC",
        "outputId": "95c31fc2-0241-4b72-ba4c-a12610588197"
      },
      "execution_count": 15,
      "outputs": [
        {
          "output_type": "stream",
          "name": "stdout",
          "text": [
            "Initial balance: $1000.00\n",
            "Deposited $500.00 into account 123456789. New balance: $1500.00\n",
            "Withdrew $200.00 from account 123456789. New balance: $1300.00\n",
            "Current balance: $1300.00\n",
            "Error: Cannot access private attribute '__balance' directly.\n",
            "Error: Cannot access private attribute '__account_number' directly.\n"
          ]
        }
      ]
    },
    {
      "cell_type": "markdown",
      "source": [
        "**11. Write a class that overrides the `__str__` and `__add__` magic methods. What will these methods allow\n",
        "you to do?**"
      ],
      "metadata": {
        "id": "WbmiLRjGViub"
      }
    },
    {
      "cell_type": "code",
      "source": [
        "#Here's an example implementation in Python that overrides the __str__ and __add__ magic methods:\n",
        "\n",
        "\n",
        "class Vector:\n",
        "    def __init__(self, x, y):\n",
        "        self.x = x\n",
        "        self.y = y\n",
        "\n",
        "    def __str__(self):\n",
        "        return f\"Vector({self.x}, {self.y})\"\n",
        "\n",
        "    def __add__(self, other):\n",
        "        if isinstance(other, Vector):\n",
        "            return Vector(self.x + other.x, self.y + other.y)\n",
        "        else:\n",
        "            raise TypeError(\"Unsupported operand type for +\")\n",
        "\n",
        "# Example usage\n",
        "v1 = Vector(2, 3)\n",
        "v2 = Vector(4, 5)\n",
        "\n",
        "print(v1)  # Output: Vector(2, 3)\n",
        "print(v2)  # Output: Vector(4, 5)\n",
        "\n",
        "v3 = v1 + v2\n",
        "print(v3)  # Output: Vector(6, 8)\n",
        "\n",
        "try:\n",
        "    v4 = v1 + 5\n",
        "except TypeError as e:\n",
        "    print(e)  # Output: Unsupported operand type for +\n"
      ],
      "metadata": {
        "colab": {
          "base_uri": "https://localhost:8080/"
        },
        "id": "KgnejbboVcA7",
        "outputId": "e6c3ea81-b0e3-43bd-e5d2-ee7eb5b7b0cc"
      },
      "execution_count": 16,
      "outputs": [
        {
          "output_type": "stream",
          "name": "stdout",
          "text": [
            "Vector(2, 3)\n",
            "Vector(4, 5)\n",
            "Vector(6, 8)\n",
            "Unsupported operand type for +\n"
          ]
        }
      ]
    },
    {
      "cell_type": "markdown",
      "source": [
        "**12. Create a decorator that measures and prints the execution time of a function.**"
      ],
      "metadata": {
        "id": "1vW1ET5MV-BC"
      }
    },
    {
      "cell_type": "code",
      "source": [
        "#Here's an example implementation in Python that creates a decorator to measure and print the execution time of a function:\n",
        "\n",
        "\n",
        "import time\n",
        "from functools import wraps\n",
        "\n",
        "def timer_decorator(func):\n",
        "    @wraps(func)\n",
        "    def wrapper(*args, **kwargs):\n",
        "        start_time = time.time()\n",
        "        result = func(*args, **kwargs)\n",
        "        end_time = time.time()\n",
        "        execution_time = end_time - start_time\n",
        "        print(f\"Function '{func.__name__}' executed in {execution_time:.4f} seconds.\")\n",
        "        return result\n",
        "    return wrapper\n",
        "\n",
        "# Example usage\n",
        "@timer_decorator\n",
        "def example_function():\n",
        "    time.sleep(1)  # Simulate some work\n",
        "    print(\"Example function executed.\")\n",
        "\n",
        "example_function()\n",
        "\n",
        "@timer_decorator\n",
        "def add(a, b):\n",
        "    time.sleep(0.5)  # Simulate some work\n",
        "    return a + b\n",
        "\n",
        "result = add(2, 3)\n",
        "print(f\"Result: {result}\")\n"
      ],
      "metadata": {
        "colab": {
          "base_uri": "https://localhost:8080/"
        },
        "id": "AqYd9BXjV1f5",
        "outputId": "0c476203-80e6-4228-979d-e07a9e405a10"
      },
      "execution_count": 17,
      "outputs": [
        {
          "output_type": "stream",
          "name": "stdout",
          "text": [
            "Example function executed.\n",
            "Function 'example_function' executed in 1.0096 seconds.\n",
            "Function 'add' executed in 0.5006 seconds.\n",
            "Result: 5\n"
          ]
        }
      ]
    },
    {
      "cell_type": "markdown",
      "source": [
        "**13. Explain the concept of the Diamond Problem in multiple inheritance. How does Python resolve it?**"
      ],
      "metadata": {
        "id": "9EUhDubZWQ5H"
      }
    },
    {
      "cell_type": "markdown",
      "source": [
        "ANS:\n",
        "\n",
        "The Diamond Problem is a classic issue in multiple inheritance, where a class inherits conflicting attributes or methods from its multiple parents. The problem arises when two or more parent classes have a common base class, and the child class inherits from all of them.\n",
        "\n",
        "Here's an example of the Diamond Problem:\n",
        "\n",
        "  A\n",
        " / \\\n",
        "B   C\n",
        " \\ /\n",
        "  D\n",
        "\n",
        "In this example, class D inherits from both B and C, which in turn inherit from A. If A has a method or attribute that is overridden by both B and C, then D will inherit conflicting definitions of that method or attribute.\n",
        "\n",
        "For example, suppose A has a method foo(), which is overridden by both B and C:\n",
        "\n",
        "class A:\n",
        "    def foo(self):\n",
        "        print(\"A's foo\")\n",
        "\n",
        "class B(A):\n",
        "    def foo(self):\n",
        "        print(\"B's foo\")\n",
        "\n",
        "class C(A):\n",
        "    def foo(self):\n",
        "        print(\"C's foo\")\n",
        "\n",
        "class D(B, C):\n",
        "    pass\n",
        "\n",
        "Now, when we create an instance of D and call foo(), which definition should be used? Should it be B's definition or C's definition?\n",
        "\n",
        "Python resolves this issue using a technique called Method Resolution Order (MRO). The MRO is a standard ordering of the classes in the inheritance graph, which ensures that the correct method or attribute is called.\n",
        "\n",
        "In Python, the MRO is calculated using the C3 linearization algorithm, which is a variant of the C3 algorithm. The C3 algorithm works by performing a depth-first search of the inheritance graph, starting from the child class.\n",
        "\n",
        "Here's how the MRO would be calculated for the above example:\n",
        "\n",
        "1. Start with the child class `D`\n",
        "2. Visit `B` (since it's the first parent of `D`)\n",
        "3. Visit `A` (since it's the parent of `B`)\n",
        "4. Visit `C` (since it's the second parent of `D`)\n",
        "5. Visit `A` again (since it's the parent of `C`, but we've already visited it, so skip it)\n",
        "\n",
        "MRO: [D, B, C, A, object]\n",
        "\n",
        "The resulting MRO is [D, B, C, A, object], which means that when we call foo() on an instance of D, Python will search for the method in the following order:\n",
        "\n",
        "1. D (the child class itself)\n",
        "2. B (the first parent of D)\n",
        "3. C (the second parent of D)\n",
        "4. A (the common base class of B and C)\n",
        "5. object (the ultimate base class of all Python objects)\n",
        "\n",
        "In this case, since B defines foo(), Python will call B's definition of foo() when we call foo() on an instance of D.\n",
        "\n",
        "By using the MRO, Python ensures that the correct method or attribute is called, even in the presence of multiple inheritance and conflicting definitions."
      ],
      "metadata": {
        "id": "kPA3T3ODWlIH"
      }
    },
    {
      "cell_type": "markdown",
      "source": [
        "**14. Write a class method that keeps track of the number of instances created from a class**"
      ],
      "metadata": {
        "id": "ZHYEqHeeWuDW"
      }
    },
    {
      "cell_type": "code",
      "source": [
        "#Here's an example implementation in Python that keeps track of the number of instances created from a class:\n",
        "\n",
        "class MyClass:\n",
        "    num_instances = 0\n",
        "\n",
        "    def __init__(self):\n",
        "        MyClass.num_instances += 1\n",
        "\n",
        "    @classmethod\n",
        "    def get_num_instances(cls):\n",
        "        return cls.num_instances\n",
        "\n",
        "# Example usage\n",
        "obj1 = MyClass()\n",
        "obj2 = MyClass()\n",
        "obj3 = MyClass()\n",
        "\n",
        "print(MyClass.get_num_instances())  # Output: 3\n"
      ],
      "metadata": {
        "colab": {
          "base_uri": "https://localhost:8080/"
        },
        "id": "8mUKupdMWJyw",
        "outputId": "00952615-9b1d-4d40-e70a-cdde77bfbf2b"
      },
      "execution_count": 18,
      "outputs": [
        {
          "output_type": "stream",
          "name": "stdout",
          "text": [
            "3\n"
          ]
        }
      ]
    },
    {
      "cell_type": "markdown",
      "source": [
        "**15. Implement a static method in a class that checks if a given year is a leap year**"
      ],
      "metadata": {
        "id": "tztyXb3EXCuj"
      }
    },
    {
      "cell_type": "code",
      "source": [
        "#Here's an example implementation in Python that checks if a given year is a leap year using a static method:\n",
        "\n",
        "class DateUtil:\n",
        "    @staticmethod\n",
        "    def is_leap_year(year):\n",
        "        return year % 4 == 0 and (year % 100 != 0 or year % 400 == 0)\n",
        "\n",
        "# Example usage\n",
        "print(DateUtil.is_leap_year(2020))  # Output: True\n",
        "print(DateUtil.is_leap_year(2019))  # Output: False\n",
        "print(DateUtil.is_leap_year(2000))  # Output: True\n"
      ],
      "metadata": {
        "colab": {
          "base_uri": "https://localhost:8080/"
        },
        "id": "NHPvpVSdW7CF",
        "outputId": "37b8c534-9c16-4281-ed0a-2ab6feeafb5d"
      },
      "execution_count": 19,
      "outputs": [
        {
          "output_type": "stream",
          "name": "stdout",
          "text": [
            "True\n",
            "False\n",
            "True\n"
          ]
        }
      ]
    },
    {
      "cell_type": "code",
      "source": [],
      "metadata": {
        "id": "M2wccVYRXNA7"
      },
      "execution_count": null,
      "outputs": []
    }
  ]
}